{
  "nbformat": 4,
  "nbformat_minor": 0,
  "metadata": {
    "colab": {
      "name": "FronEnd.ipynb",
      "provenance": []
    },
    "kernelspec": {
      "name": "python3",
      "display_name": "Python 3"
    },
    "language_info": {
      "name": "python"
    }
  },
  "cells": [
    {
      "cell_type": "code",
      "metadata": {
        "colab": {
          "base_uri": "https://localhost:8080/"
        },
        "id": "oc0fZoGsX62B",
        "outputId": "2b72f970-445c-4de7-85b9-483396a87481"
      },
      "source": [
        "from google.colab import drive\n",
        "drive.mount(\"/content/gdrive\")"
      ],
      "execution_count": null,
      "outputs": [
        {
          "output_type": "stream",
          "text": [
            "Drive already mounted at /content/gdrive; to attempt to forcibly remount, call drive.mount(\"/content/gdrive\", force_remount=True).\n"
          ],
          "name": "stdout"
        }
      ]
    },
    {
      "cell_type": "code",
      "metadata": {
        "id": "WEmjzSb-YDEJ"
      },
      "source": [
        "import joblib"
      ],
      "execution_count": null,
      "outputs": []
    },
    {
      "cell_type": "code",
      "metadata": {
        "id": "8ToC0Sk_YHWG"
      },
      "source": [
        "loaded_model = joblib.load(\"/content/gdrive/MyDrive/randoam.sav\")\n",
        "sc=joblib.load('/content/gdrive/MyDrive/std_scaler.bin')"
      ],
      "execution_count": null,
      "outputs": []
    },
    {
      "cell_type": "code",
      "metadata": {
        "id": "B8GXgw06YHnP"
      },
      "source": [
        ""
      ],
      "execution_count": null,
      "outputs": []
    },
    {
      "cell_type": "code",
      "metadata": {
        "colab": {
          "base_uri": "https://localhost:8080/"
        },
        "id": "yRtRdj4bYHq7",
        "outputId": "51416d63-de4b-48ec-ef32-2e8c51ee9d51"
      },
      "source": [
        "from flask import Flask,request,url_for,redirect,render_template,jsonify\n",
        "import pandas as pd\n",
        "import numpy as np\n",
        "!pip install flask-ngrok\n",
        "from flask_ngrok import run_with_ngrok\n",
        " \n",
        "\n",
        "import smtplib\n",
        "!pip install Flask-Mail\n",
        "!pip install Flask-Sendmail\n",
        "from email.mime.text import MIMEText \n",
        "import random\n",
        "from flask_mail import Mail, Message\n",
        "import smtplib"
      ],
      "execution_count": null,
      "outputs": [
        {
          "output_type": "stream",
          "text": [
            "Requirement already satisfied: flask-ngrok in /usr/local/lib/python3.7/dist-packages (0.0.25)\n",
            "Requirement already satisfied: Flask>=0.8 in /usr/local/lib/python3.7/dist-packages (from flask-ngrok) (1.1.4)\n",
            "Requirement already satisfied: requests in /usr/local/lib/python3.7/dist-packages (from flask-ngrok) (2.23.0)\n",
            "Requirement already satisfied: click<8.0,>=5.1 in /usr/local/lib/python3.7/dist-packages (from Flask>=0.8->flask-ngrok) (7.1.2)\n",
            "Requirement already satisfied: Jinja2<3.0,>=2.10.1 in /usr/local/lib/python3.7/dist-packages (from Flask>=0.8->flask-ngrok) (2.11.3)\n",
            "Requirement already satisfied: Werkzeug<2.0,>=0.15 in /usr/local/lib/python3.7/dist-packages (from Flask>=0.8->flask-ngrok) (1.0.1)\n",
            "Requirement already satisfied: itsdangerous<2.0,>=0.24 in /usr/local/lib/python3.7/dist-packages (from Flask>=0.8->flask-ngrok) (1.1.0)\n",
            "Requirement already satisfied: urllib3!=1.25.0,!=1.25.1,<1.26,>=1.21.1 in /usr/local/lib/python3.7/dist-packages (from requests->flask-ngrok) (1.24.3)\n",
            "Requirement already satisfied: idna<3,>=2.5 in /usr/local/lib/python3.7/dist-packages (from requests->flask-ngrok) (2.10)\n",
            "Requirement already satisfied: certifi>=2017.4.17 in /usr/local/lib/python3.7/dist-packages (from requests->flask-ngrok) (2021.5.30)\n",
            "Requirement already satisfied: chardet<4,>=3.0.2 in /usr/local/lib/python3.7/dist-packages (from requests->flask-ngrok) (3.0.4)\n",
            "Requirement already satisfied: MarkupSafe>=0.23 in /usr/local/lib/python3.7/dist-packages (from Jinja2<3.0,>=2.10.1->Flask>=0.8->flask-ngrok) (2.0.1)\n",
            "Requirement already satisfied: Flask-Mail in /usr/local/lib/python3.7/dist-packages (0.9.1)\n",
            "Requirement already satisfied: Flask in /usr/local/lib/python3.7/dist-packages (from Flask-Mail) (1.1.4)\n",
            "Requirement already satisfied: blinker in /usr/local/lib/python3.7/dist-packages (from Flask-Mail) (1.4)\n",
            "Requirement already satisfied: Jinja2<3.0,>=2.10.1 in /usr/local/lib/python3.7/dist-packages (from Flask->Flask-Mail) (2.11.3)\n",
            "Requirement already satisfied: itsdangerous<2.0,>=0.24 in /usr/local/lib/python3.7/dist-packages (from Flask->Flask-Mail) (1.1.0)\n",
            "Requirement already satisfied: click<8.0,>=5.1 in /usr/local/lib/python3.7/dist-packages (from Flask->Flask-Mail) (7.1.2)\n",
            "Requirement already satisfied: Werkzeug<2.0,>=0.15 in /usr/local/lib/python3.7/dist-packages (from Flask->Flask-Mail) (1.0.1)\n",
            "Requirement already satisfied: MarkupSafe>=0.23 in /usr/local/lib/python3.7/dist-packages (from Jinja2<3.0,>=2.10.1->Flask->Flask-Mail) (2.0.1)\n",
            "Requirement already satisfied: Flask-Sendmail in /usr/local/lib/python3.7/dist-packages (0.1)\n",
            "Requirement already satisfied: Flask in /usr/local/lib/python3.7/dist-packages (from Flask-Sendmail) (1.1.4)\n",
            "Requirement already satisfied: Jinja2<3.0,>=2.10.1 in /usr/local/lib/python3.7/dist-packages (from Flask->Flask-Sendmail) (2.11.3)\n",
            "Requirement already satisfied: itsdangerous<2.0,>=0.24 in /usr/local/lib/python3.7/dist-packages (from Flask->Flask-Sendmail) (1.1.0)\n",
            "Requirement already satisfied: click<8.0,>=5.1 in /usr/local/lib/python3.7/dist-packages (from Flask->Flask-Sendmail) (7.1.2)\n",
            "Requirement already satisfied: Werkzeug<2.0,>=0.15 in /usr/local/lib/python3.7/dist-packages (from Flask->Flask-Sendmail) (1.0.1)\n",
            "Requirement already satisfied: MarkupSafe>=0.23 in /usr/local/lib/python3.7/dist-packages (from Jinja2<3.0,>=2.10.1->Flask->Flask-Sendmail) (2.0.1)\n"
          ],
          "name": "stdout"
        }
      ]
    },
    {
      "cell_type": "code",
      "metadata": {
        "id": "a0AP1nQHYHtN"
      },
      "source": [
        "import string    \n",
        "import random \n",
        "def Upper_Lower_string(length):\n",
        "  result = ''.join((random.choice(string.ascii_uppercase) for x in range(length))) # run loop until the define length  \n",
        "  return result"
      ],
      "execution_count": null,
      "outputs": []
    },
    {
      "cell_type": "code",
      "metadata": {
        "id": "asRoscFB3ZdS"
      },
      "source": [
        "def mail_yes_sepsis(predict):\n",
        "  from datetime import datetime\n",
        "  now = datetime.now()\n",
        "  WARNING = '\\033[31m'\n",
        "  dt_string = now.strftime(\"%d/%m/%Y %H:%M:%S\")\n",
        "  stmt=\"Please note this is system generated mail\\nDo not reply back\"\n",
        "  res=Upper_Lower_string(10);\n",
        "  res1 = ''.join(\"     * \"+key +\" \"+ str(val)+\"\\n\" for key, val in predict.items())\n",
        "  msg = MIMEText('Hello Mr.Doctor,\\n\\n'\n",
        "  'Patient Id: '+res+'\\n\\nThis mail is to notify regarding medical condition of the patient (patient’s ID): '+res+\n",
        "  '\\nReport was generated on '+dt_string+'\\n\\n Following is a detailed medical examination of Sepsis ,\\n'+res1+\n",
        "  \"\\nThe Early Sepsis Prediction System predicts that this patient have a probability of having sepsis\\n\"\n",
        "  '\\nThe System recommends to do a physical exam and run tests like \\n1.Bacteria in '\n",
        " 'blood or other body fluids \\n2.Signs of infection on an X-ray, CT scan, or ultrasound\\n\\n\\n'\n",
        " 'Thank you\\n\\n\\n\\n\\n'+stmt)\n",
        "  \n",
        "  msg['Subject'] = 'Sepsis Prediction result'\n",
        "  msg['From'] = 'priyaskulkarni99@gmail.com'\n",
        "  msg['To'] = 'priyaskulkarni99@gmail.com'\n",
        "  s = smtplib.SMTP('smtp.gmail.com', 587)\n",
        "  s.starttls()\n",
        "  s.login(\"priyaskulkarni99@gmail.com\", \"Psk@1508\")\n",
        "  print(str(res))\n",
        "  s.sendmail(\"priyaskulkarni99@gmail.com\",\"priyaskulkarni99@gmail.com\", msg.as_string().encode('ascii', 'ignore'))\n",
        "  s.quit()\n"
      ],
      "execution_count": null,
      "outputs": []
    },
    {
      "cell_type": "code",
      "metadata": {
        "id": "ArL4bbfjYHva"
      },
      "source": [
        ""
      ],
      "execution_count": null,
      "outputs": []
    },
    {
      "cell_type": "code",
      "metadata": {
        "id": "2GYPoUuBvsS5"
      },
      "source": [
        "def mail_sepsis(predict):\n",
        "  from datetime import datetime\n",
        "  now = datetime.now()\n",
        "  WARNING = '\\033[31m'\n",
        "  dt_string = now.strftime(\"%d/%m/%Y %H:%M:%S\")\n",
        "  stmt=\"Please note this is system generated mail\\nDo not reply back\"\n",
        "  res=Upper_Lower_string(10);\n",
        "  res1 = ''.join(\"      * \"+key +\" \"+ str(val)+\"\\n\" for key, val in predict.items())\n",
        "  msg = MIMEText('Hello Mr.Doctor,\\n\\n'\n",
        "  'Patient Id: '+res+'\\n\\nThis mail is to notify regarding notify regarding medical condition of the patient (patient’s ID): '+res+\n",
        "  '\\nReport was generated on '+dt_string+'\\n\\n Following is a detailed medical examination of Sepsis ,\\n'+res1+\n",
        "  \"\\nThe Early Sepsis Prediction System predicts that this patient have a probability of having No sepsis\\n\"\n",
        " '\\nThank you\\n\\n\\n\\n\\n'+stmt)\n",
        "  \n",
        "  msg['Subject'] = 'Sepsis Prediction result'\n",
        "  msg['From'] = 'priyaskulkarni99@gmail.com'\n",
        "  msg['To'] = 'priyaskulkarni99@gmail.com'\n",
        "  s = smtplib.SMTP('smtp.gmail.com', 587)\n",
        "  s.starttls()\n",
        "  s.login(\"priyaskulkarni99@gmail.com\", \"Psk@1508\")\n",
        "  print(str(res))\n",
        "  s.sendmail(\"priyaskulkarni99@gmail.com\",\"priyaskulkarni99@gmail.com\", msg.as_string().encode('ascii', 'ignore'))\n",
        "  s.quit()"
      ],
      "execution_count": null,
      "outputs": []
    },
    {
      "cell_type": "code",
      "metadata": {
        "colab": {
          "base_uri": "https://localhost:8080/"
        },
        "id": "la1XzTUT91-h",
        "outputId": "d379c94f-43fb-47e5-e4e0-a463604ad50a"
      },
      "source": [
        "app = Flask(__name__,static_folder='/content/gdrive/MyDrive/project',template_folder='/content/gdrive/MyDrive/project')\n",
        "run_with_ngrok(app)   \n",
        "\n",
        "@app.route(\"/\")\n",
        "def home():\n",
        "    return render_template('home.html')\n",
        "@app.route(\"/about\")\n",
        "def about():\n",
        "  return render_template('about.html')\n",
        "\n",
        "@app.route(\"/index\",methods=['post'])\n",
        "def index():\n",
        "    return render_template('index.html')\n",
        "\n",
        "def ValuePredictor(to_predict_list):\n",
        "  to_predict = [to_predict_list]\n",
        "  to_predict=sc.transform(to_predict)\n",
        "  to_predict=pd.DataFrame(to_predict)\n",
        "  result = loaded_model.predict(to_predict)\n",
        "  return result[0]\n",
        "\n",
        "@app.route('/predict',methods=['POST'])\n",
        "def result():\n",
        "  if request.method == 'POST':\n",
        "   to_predict_list1 = request.form.to_dict()\n",
        "   to_predict_list=list(to_predict_list1.values())\n",
        "   to_predict_list =list(map(float, to_predict_list))\n",
        "   res = ValuePredictor(to_predict_list)\n",
        "   predictions = res\n",
        "   if (predictions==1):\n",
        "     predictions=\"Sepsis\"\n",
        "     mail_yes_sepsis(to_predict_list1)\n",
        "   else:\n",
        "     predictions=\"No Sepsis\"\n",
        "     mail_sepsis(to_predict_list1)\n",
        "   return render_template('predict.html', prediction=predictions)\n",
        "\n",
        "if __name__ == \"__main__\":\n",
        "  app.run()"
      ],
      "execution_count": null,
      "outputs": [
        {
          "output_type": "stream",
          "text": [
            " * Serving Flask app \"__main__\" (lazy loading)\n",
            " * Environment: production\n",
            "\u001b[31m   WARNING: This is a development server. Do not use it in a production deployment.\u001b[0m\n",
            "\u001b[2m   Use a production WSGI server instead.\u001b[0m\n",
            " * Debug mode: off\n"
          ],
          "name": "stdout"
        },
        {
          "output_type": "stream",
          "text": [
            " * Running on http://127.0.0.1:5000/ (Press CTRL+C to quit)\n"
          ],
          "name": "stderr"
        },
        {
          "output_type": "stream",
          "text": [
            " * Running on http://67ecb585de9b.ngrok.io\n",
            " * Traffic stats available on http://127.0.0.1:4040\n"
          ],
          "name": "stdout"
        },
        {
          "output_type": "stream",
          "text": [
            "127.0.0.1 - - [11/Jul/2021 13:06:03] \"\u001b[37mGET / HTTP/1.1\u001b[0m\" 200 -\n",
            "127.0.0.1 - - [11/Jul/2021 13:06:04] \"\u001b[37mGET /project/img_avatar2.png HTTP/1.1\u001b[0m\" 200 -\n",
            "127.0.0.1 - - [11/Jul/2021 13:06:04] \"\u001b[37mGET / HTTP/1.1\u001b[0m\" 200 -\n",
            "127.0.0.1 - - [11/Jul/2021 13:06:04] \"\u001b[33mGET /favicon.ico HTTP/1.1\u001b[0m\" 404 -\n",
            "127.0.0.1 - - [11/Jul/2021 13:06:06] \"\u001b[37mGET /project/img_avatar2.png HTTP/1.1\u001b[0m\" 200 -\n",
            "127.0.0.1 - - [11/Jul/2021 13:06:14] \"\u001b[37mPOST /index HTTP/1.1\u001b[0m\" 200 -\n",
            "127.0.0.1 - - [11/Jul/2021 13:06:14] \"\u001b[37mGET /project/backg.png HTTP/1.1\u001b[0m\" 200 -\n",
            "127.0.0.1 - - [11/Jul/2021 13:06:15] \"\u001b[31m\u001b[1mGET /index HTTP/1.1\u001b[0m\" 405 -\n"
          ],
          "name": "stderr"
        },
        {
          "output_type": "stream",
          "text": [
            "CQYVRDOMHJ\n"
          ],
          "name": "stdout"
        },
        {
          "output_type": "stream",
          "text": [
            "127.0.0.1 - - [11/Jul/2021 13:07:27] \"\u001b[37mPOST /predict HTTP/1.1\u001b[0m\" 200 -\n",
            "127.0.0.1 - - [11/Jul/2021 13:07:28] \"\u001b[31m\u001b[1mGET /predict HTTP/1.1\u001b[0m\" 405 -\n",
            "127.0.0.1 - - [11/Jul/2021 13:07:28] \"\u001b[37mGET /project/sepsis.png HTTP/1.1\u001b[0m\" 200 -\n"
          ],
          "name": "stderr"
        }
      ]
    },
    {
      "cell_type": "code",
      "metadata": {
        "id": "VfA2uw0iYHx2"
      },
      "source": [
        "def ValuePredictor(to_predict_list):\n",
        "  to_predict = [to_predict_list] \n",
        "  to_predict=sc.transform(to_predict)\n",
        "  print(to_predict)\n",
        "  to_predict=pd.DataFrame(to_predict)\n",
        "  result = loaded_model.predict(to_predict)\n",
        "  return result[0]"
      ],
      "execution_count": null,
      "outputs": []
    },
    {
      "cell_type": "code",
      "metadata": {
        "id": "-5dxRo-NYH0F"
      },
      "source": [
        "lst = [ 91,  37.08, 107 ,  27.5  ,  92 ,  29.6   ,  50.12 ,\n",
        "        110.8 ,   7.5 , 104,   1.4,  101  ,   0.56 ,  7.38 ,\n",
        "       187   ]"
      ],
      "execution_count": null,
      "outputs": []
    },
    {
      "cell_type": "code",
      "metadata": {
        "colab": {
          "base_uri": "https://localhost:8080/"
        },
        "id": "9Apc5Ai8YH2U",
        "outputId": "b2836c47-431e-444e-bc06-535848ef2301"
      },
      "source": [
        "res=ValuePredictor(lst)\n",
        "res"
      ],
      "execution_count": null,
      "outputs": [
        {
          "output_type": "stream",
          "text": [
            "[[-2.88376893  0.27059385 -0.76802584  1.30129414 -0.84375493  1.76823096\n",
            "   2.62670241  1.87340517 -1.70995086 -0.73829887  1.67534103 -0.95044206\n",
            "  -0.99903311 -0.85861648 -0.15935444]]\n"
          ],
          "name": "stdout"
        },
        {
          "output_type": "execute_result",
          "data": {
            "text/plain": [
              "1"
            ]
          },
          "metadata": {
            "tags": []
          },
          "execution_count": 146
        }
      ]
    },
    {
      "cell_type": "code",
      "metadata": {
        "id": "N1SOpXWoYH36"
      },
      "source": [
        ""
      ],
      "execution_count": null,
      "outputs": []
    },
    {
      "cell_type": "code",
      "metadata": {
        "id": "rfjESVOzYH6B"
      },
      "source": [
        ""
      ],
      "execution_count": null,
      "outputs": []
    }
  ]
}